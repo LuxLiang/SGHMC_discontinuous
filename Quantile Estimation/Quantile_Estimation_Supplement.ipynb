{
 "cells": [
  {
   "cell_type": "code",
   "execution_count": 142,
   "id": "ec88edb0",
   "metadata": {
    "tags": []
   },
   "outputs": [],
   "source": [
    "import sys\n",
    "import math\n",
    "import time\n",
    "import numpy as np\n",
    "import pandas as pd\n",
    "import matplotlib\n",
    "from matplotlib import pyplot as plt\n",
    "from sklearn.metrics import mean_squared_error\n",
    "from scipy.stats import wasserstein_distance\n",
    "import warnings\n",
    "warnings.filterwarnings(\"ignore\")\n",
    "\n",
    "class SGLD:\n",
    "\n",
    "    def __init__(self, beta, lam_c, lr, q, seed, real, epsilon):\n",
    "        self.beta = beta # Temperature para\n",
    "        self.lam_c = lam_c # Regularization\n",
    "        self.lr = lr # Learning rate\n",
    "        self.q = q\n",
    "        self.seed = seed\n",
    "        self.real = real\n",
    "        self.epsilon = epsilon\n",
    "        self.theta_star = real\n",
    "\n",
    "    def func_excess(self, x, theta):\n",
    "        \n",
    "        return (self.q - 1*(x < theta)) * (x - theta)\n",
    "    \n",
    "    def cal_H(self, x, theta):\n",
    "        H = - self.q + 1 * (x < theta) + 2 * self.lam_c * theta\n",
    "        return H\n",
    "        \n",
    "    def estimate(self, x_array_sd1, x_array_sd2, x_array_sd3, x_array_sd4, x_array_sd5):\n",
    "        np.random.seed(self.seed)\n",
    "        theta_sd1 = np.random.normal(0, 1)\n",
    "        theta_sd2 = np.random.normal(0, 1)\n",
    "        theta_sd3 = np.random.normal(0, 1)\n",
    "        theta_sd4 = np.random.normal(0, 1)\n",
    "        theta_sd5 = np.random.normal(0, 1)# initial value \\theta_0\n",
    "        theta_dup_sd1 = [theta_sd1]; theta_dup_sd2 = [theta_sd2]; \n",
    "        theta_dup_sd3 = [theta_sd3]; theta_dup_sd4 = [theta_sd4]; \n",
    "        theta_dup_sd5 = [theta_sd5]; \n",
    "        real_value = [self.real for _ in range(1000)]\n",
    "        \n",
    "        # updating\n",
    "        for i in range(len(x_array_sd1)):\n",
    "            theta_sd1 += -self.lr * self.cal_H(x_array_sd1[i], theta_sd1) \\\n",
    "                     + math.sqrt((2 * self.lr / self.beta)) * np.random.normal(0, 1)\n",
    "            theta_dup_sd1.append(theta_sd1)\n",
    "            \n",
    "            theta_sd2 += -self.lr * self.cal_H(x_array_sd2[i], theta_sd2) \\\n",
    "                     + math.sqrt((2 * self.lr / self.beta)) * np.random.normal(0, 1)\n",
    "            theta_dup_sd2.append(theta_sd2)\n",
    "            \n",
    "            theta_sd3 += -self.lr * self.cal_H(x_array_sd3[i], theta_sd3) \\\n",
    "                     + math.sqrt((2 * self.lr / self.beta)) * np.random.normal(0, 1)\n",
    "            theta_dup_sd3.append(theta_sd3)\n",
    "            \n",
    "            theta_sd4 += -self.lr * self.cal_H(x_array_sd4[i], theta_sd4) \\\n",
    "                     + math.sqrt((2 * self.lr / self.beta)) * np.random.normal(0, 1)\n",
    "            theta_dup_sd4.append(theta_sd4)\n",
    "            \n",
    "            theta_sd5 += -self.lr * self.cal_H(x_array_sd5[i], theta_sd5) \\\n",
    "                     + math.sqrt((2 * self.lr / self.beta)) * np.random.normal(0, 1)\n",
    "            theta_dup_sd5.append(theta_sd5)\n",
    "            \n",
    "\n",
    "            if i % 1001==0 and i > 1000:\n",
    "                excess_risk_sd1 = np.mean(self.func_excess(x_array_sd1, theta = theta_sd1) - self.func_excess(x_array_sd1, theta = self.theta_star)) + lam_c * theta_sd1**2 - lam_c * self.theta_star**2\n",
    "                excess_risk_sd2 = np.mean(self.func_excess(x_array_sd2, theta = theta_sd2) - self.func_excess(x_array_sd2, theta = self.theta_star)) + lam_c * theta_sd2**2 - lam_c * self.theta_star**2\n",
    "                excess_risk_sd3 = np.mean(self.func_excess(x_array_sd3, theta = theta_sd3) - self.func_excess(x_array_sd3, theta = self.theta_star)) + lam_c * theta_sd3**2 - lam_c * self.theta_star**2\n",
    "                excess_risk_sd4 = np.mean(self.func_excess(x_array_sd4, theta = theta_sd4) - self.func_excess(x_array_sd4, theta = self.theta_star)) + lam_c * theta_sd4**2 - lam_c * self.theta_star**2\n",
    "                excess_risk_sd5 = np.mean(self.func_excess(x_array_sd5, theta = theta_sd5) - self.func_excess(x_array_sd5, theta = self.theta_star)) + lam_c * theta_sd5**2 - lam_c * self.theta_star**2\n",
    "                excess_risk = excess_risk_sd1 + excess_risk_sd2 + excess_risk_sd3 + excess_risk_sd4 + excess_risk_sd5\n",
    "                excess_risk = (excess_risk_sd1 + excess_risk_sd2 + excess_risk_sd3 + excess_risk_sd4 + excess_risk_sd5) / 5\n",
    "\n",
    "                if np.abs(excess_risk) <= self.epsilon:\n",
    "                    print(i)\n",
    "                    return (theta_sd1 + theta_sd2 + theta_sd3 + theta_sd4 + theta_sd5) / 5, excess_risk\n",
    "                \n",
    "                \n",
    "        return (theta_sd1 + theta_sd2 + theta_sd3 + theta_sd4 + theta_sd5) / 5, excess_risk #, expectation\n",
    "    \n",
    "################################################################################################################################################\n",
    "class SGHMC:\n",
    "\n",
    "    def __init__(self, beta, lam_c, lr, gamma, q, seed, real, epsilon):\n",
    "        self.beta = beta # Temperature para\n",
    "        self.lam_c = lam_c # Regularization\n",
    "        self.lr = lr # Learning rate\n",
    "        self.q = q\n",
    "        self.gamma = gamma # momentum\n",
    "        self.seed = seed\n",
    "        self.real = real\n",
    "        self.epsilon = epsilon\n",
    "        self.theta_star = real\n",
    "        \n",
    "    def func_excess(self, x, theta):\n",
    "        # theta = 2.944 is optimal value, quantile = 0.95\n",
    "        return (self.q - 1*(x < theta)) * (x - theta)\n",
    "\n",
    "    def cal_H(self, x, theta):\n",
    "        \"\"\" m = 1\"\"\"\n",
    "        H = -self.q + 1*(x < theta) + 2 * self.lam_c * theta\n",
    "        return H\n",
    "\n",
    "    def estimate(self, x_array_sd1, x_array_sd2, x_array_sd3, x_array_sd4, x_array_sd5):\n",
    "        np.random.seed(self.seed)\n",
    "        theta_sd1 = np.random.normal(0, 1)\n",
    "        theta_sd2 = np.random.normal(0, 1)\n",
    "        theta_sd3 = np.random.normal(0, 1)\n",
    "        theta_sd4 = np.random.normal(0, 1)\n",
    "        theta_sd5 = np.random.normal(0, 1)# initial value \\theta_0\n",
    "        vol_sd1 = 0\n",
    "        vol_sd2 = 0\n",
    "        vol_sd3 = 0\n",
    "        vol_sd4 = 0\n",
    "        vol_sd5 = 0\n",
    "        theta_dup_sd1 = [theta_sd1]; theta_dup_sd2 = [theta_sd2]; \n",
    "        theta_dup_sd3 = [theta_sd3]; theta_dup_sd4 = [theta_sd4]; \n",
    "        theta_dup_sd5 = [theta_sd5]; \n",
    "        real_value = [self.real for _ in range(1000)]\n",
    "\n",
    "        # updating\n",
    "        for i in range(len(x_array_sd1)):\n",
    "            vol_sd1 += - self.lr * self.gamma * vol_sd1 - self.lr * self.cal_H(x_array_sd1[i], theta_sd1) + math.sqrt((2 * self.lr * self.gamma / self.beta)) * np.random.normal(0, 1)\n",
    "            theta_sd1 += self.lr * vol_sd1\n",
    "            theta_dup_sd1.append(theta_sd1)\n",
    "            \n",
    "            vol_sd2 += - self.lr * self.gamma * vol_sd2 - self.lr * self.cal_H(x_array_sd2[i], theta_sd2) + math.sqrt((2 * self.lr * self.gamma / self.beta)) * np.random.normal(0, 1)\n",
    "            theta_sd2 += self.lr * vol_sd2\n",
    "            theta_dup_sd2.append(theta_sd2)\n",
    "            \n",
    "            vol_sd3 += - self.lr * self.gamma * vol_sd3 - self.lr * self.cal_H(x_array_sd3[i], theta_sd3) + math.sqrt((2 * self.lr * self.gamma / self.beta)) * np.random.normal(0, 1)\n",
    "            theta_sd3 += self.lr * vol_sd3\n",
    "            theta_dup_sd3.append(theta_sd3)\n",
    "            \n",
    "            vol_sd4 += - self.lr * self.gamma * vol_sd4 - self.lr * self.cal_H(x_array_sd4[i], theta_sd4) + math.sqrt((2 * self.lr * self.gamma / self.beta)) * np.random.normal(0, 1)\n",
    "            theta_sd4 += self.lr * vol_sd4\n",
    "            theta_dup_sd4.append(theta_sd4)\n",
    "            \n",
    "            vol_sd5 += - self.lr * self.gamma * vol_sd5 - self.lr * self.cal_H(x_array_sd5[i], theta_sd5) + math.sqrt((2 * self.lr * self.gamma / self.beta)) * np.random.normal(0, 1)\n",
    "            theta_sd5 += self.lr * vol_sd5\n",
    "            theta_dup_sd5.append(theta_sd5)\n",
    "            \n",
    "            \n",
    "            if i % 1001==0 and i > 1000:\n",
    "                excess_risk_sd1 = np.mean(self.func_excess(x_array_sd1, theta = theta_sd1)) + lam_c * theta_sd1**2 - np.mean(self.func_excess(x_array_sd1, theta = self.theta_star)) - lam_c * self.theta_star**2\n",
    "                excess_risk_sd2 = np.mean(self.func_excess(x_array_sd2, theta = theta_sd2)) + lam_c * theta_sd2**2 - np.mean(self.func_excess(x_array_sd2, theta = self.theta_star)) - lam_c * self.theta_star**2\n",
    "                excess_risk_sd3 = np.mean(self.func_excess(x_array_sd3, theta = theta_sd3)) + lam_c * theta_sd3**2 - np.mean(self.func_excess(x_array_sd3, theta = self.theta_star)) - lam_c * self.theta_star**2\n",
    "                excess_risk_sd4 = np.mean(self.func_excess(x_array_sd4, theta = theta_sd4)) + lam_c * theta_sd4**2 - np.mean(self.func_excess(x_array_sd4, theta = self.theta_star)) - lam_c * self.theta_star**2\n",
    "                excess_risk_sd5 = np.mean(self.func_excess(x_array_sd5, theta = theta_sd5)) + lam_c * theta_sd5**2 - np.mean(self.func_excess(x_array_sd5, theta = self.theta_star)) - lam_c * self.theta_star**2\n",
    "                excess_risk = (excess_risk_sd1 + excess_risk_sd2 + excess_risk_sd3 + excess_risk_sd4 + excess_risk_sd5) / 5\n",
    "\n",
    "                if np.abs(excess_risk) <= self.epsilon:\n",
    "                    print(i)\n",
    "                    return (theta_sd1 + theta_sd2 + theta_sd3 + theta_sd4 + theta_sd5) / 5, excess_risk\n",
    "\n",
    "\n",
    "        return (theta_sd1 + theta_sd2 + theta_sd3 + theta_sd4 + theta_sd5), excess_risk #expectation"
   ]
  },
  {
   "cell_type": "code",
   "execution_count": 55,
   "id": "0317cbaa",
   "metadata": {
    "tags": []
   },
   "outputs": [],
   "source": [
    "beta = 1e+8\n",
    "lam_c = 1e-5\n",
    "lr = 1e-3\n",
    "gamma = 0.5 # gamma的选取对结果影响很大\n",
    "seed_1= 1111; seed_2 = 2222; seed_3 = 3333; seed_4 = 4444; seed_5 = 5555"
   ]
  },
  {
   "cell_type": "markdown",
   "id": "c1af48e4",
   "metadata": {},
   "source": [
    "## Guassian dist.\n",
    "### Guassian(-1, 1)  0.95"
   ]
  },
  {
   "cell_type": "code",
   "execution_count": 128,
   "id": "38d77682",
   "metadata": {
    "tags": []
   },
   "outputs": [],
   "source": [
    "np.random.seed(1111)\n",
    "x_norm_mu1_sig1_sd1 = np.random.normal(-1, 1, int(1e+5))\n",
    "np.random.seed(2222)\n",
    "x_norm_mu1_sig1_sd2 = np.random.normal(-1, 1, int(1e+5))\n",
    "np.random.seed(3333)\n",
    "x_norm_mu1_sig1_sd3 = np.random.normal(-1, 1, int(1e+5))\n",
    "np.random.seed(4444)\n",
    "x_norm_mu1_sig1_sd4 = np.random.normal(-1, 1, int(1e+5))\n",
    "np.random.seed(5555)\n",
    "x_norm_mu1_sig1_sd5 = np.random.normal(-1, 1, int(1e+5))"
   ]
  },
  {
   "cell_type": "code",
   "execution_count": 129,
   "id": "36564284",
   "metadata": {},
   "outputs": [
    {
     "name": "stdout",
     "output_type": "stream",
     "text": [
      "18018\n",
      "Expected excess risk of SGLD is 0.0009397854279160938\n",
      "Value of SGLD is 0.6386796608501386\n",
      "耗时: 0.11100606918334961秒\n"
     ]
    }
   ],
   "source": [
    "## SGLD\n",
    "Model095_SGLD_sd1 = SGLD(beta, lam_c, lr, 0.95, seed_1, 0.645, 0.001)\n",
    "\n",
    "start_time = time.time()\n",
    "theta_SGLD, expected_excess_risk  = Model095_SGLD_sd1.estimate(x_norm_mu1_sig1_sd1, x_norm_mu1_sig1_sd2, x_norm_mu1_sig1_sd3, x_norm_mu1_sig1_sd4, x_norm_mu1_sig1_sd5)\n",
    "end_time = time.time()\n",
    "\n",
    "print(f'Expected excess risk of SGLD is {expected_excess_risk}')\n",
    "print(f'Value of SGLD is {theta_SGLD}')\n",
    "print(f'耗时: {(end_time - start_time) / 5}秒')"
   ]
  },
  {
   "cell_type": "code",
   "execution_count": 130,
   "id": "434a8eee",
   "metadata": {},
   "outputs": [
    {
     "name": "stdout",
     "output_type": "stream",
     "text": [
      "12012\n",
      "excess_risk of SGHMC is 0.0009700996012607281\n",
      "Value of SGHMC is 0.7789031440875854\n",
      "耗时: 0.07880601882934571秒\n"
     ]
    }
   ],
   "source": [
    "## SGHMC\n",
    "\n",
    "Model095_SGHMC_sd1 = SGHMC(beta, lam_c, lr, gamma, 0.95, seed_1, 0.645, 0.001)\n",
    "start_time = time.time()\n",
    "theta_SGHMC, expected_excess_risk  = Model095_SGHMC_sd1.estimate(x_norm_mu1_sig1_sd1, x_norm_mu1_sig1_sd2, x_norm_mu1_sig1_sd3, x_norm_mu1_sig1_sd4, x_norm_mu1_sig1_sd5)\n",
    "end_time = time.time()\n",
    "\n",
    "print(f'excess_risk of SGHMC is {expected_excess_risk}')\n",
    "print(f'Value of SGHMC is {theta_SGHMC}')\n",
    "print(f'耗时: {(end_time - start_time) / 5}秒')"
   ]
  },
  {
   "cell_type": "markdown",
   "id": "bb131749",
   "metadata": {},
   "source": [
    "### Guassian(-1, 1)  0.99"
   ]
  },
  {
   "cell_type": "code",
   "execution_count": 131,
   "id": "59cadf2d",
   "metadata": {},
   "outputs": [
    {
     "name": "stdout",
     "output_type": "stream",
     "text": [
      "62062\n",
      "Expected excess risk of SGLD is 9.419428703303796e-05\n",
      "Value of SGLD is 1.2651763748189033\n",
      "耗时: 0.37160658836364746秒\n"
     ]
    }
   ],
   "source": [
    "## SGLD\n",
    "\n",
    "Model099_SGLD_sd1 = SGLD(beta, lam_c, lr, 0.99, seed_1, 1.326, 0.0001)\n",
    "#Model099_SGLD_sd2 = SGLD(beta, lam_c, lr, 0.99, seed_2, 1.326, 0.01)\n",
    "#Model099_SGLD_sd3 = SGLD(beta, lam_c, lr, 0.99, seed_3, 1.326, 0.01)\n",
    "#Model099_SGLD_sd4 = SGLD(beta, lam_c, lr, 0.99, seed_4, 1.326, 0.01)\n",
    "#Model099_SGLD_sd5 = SGLD(beta, lam_c, lr, 0.99, seed_5, 1.326, 0.01)\n",
    "\n",
    "start_time = time.time()\n",
    "theta_SGLD, expected_excess_risk  = Model099_SGLD_sd1.estimate(x_norm_mu1_sig1_sd1, x_norm_mu1_sig1_sd2, x_norm_mu1_sig1_sd3, x_norm_mu1_sig1_sd4, x_norm_mu1_sig1_sd5)\n",
    "#theta_SGLD_sd2, theta_all_SGLD_sd2_95,SGLD_sd2_95_wd  = Model095_SGLD_sd2.estimate(x_norm_mu1_sig1_sd2)\n",
    "#theta_SGLD_sd3, theta_all_SGLD_sd3_95,SGLD_sd3_95_wd  = Model095_SGLD_sd3.estimate(x_norm_mu1_sig1_sd3)\n",
    "#theta_SGLD_sd4, theta_all_SGLD_sd4_95,SGLD_sd4_95_wd  = Model095_SGLD_sd4.estimate(x_norm_mu1_sig1_sd4)\n",
    "#theta_SGLD_sd5, theta_all_SGLD_sd5_95,SGLD_sd5_95_wd  = Model095_SGLD_sd5.estimate(x_norm_mu1_sig1_sd5)\n",
    "end_time = time.time()\n",
    "\n",
    "print(f'Expected excess risk of SGLD is {expected_excess_risk}')\n",
    "print(f'Value of SGLD is {theta_SGLD}')\n",
    "print(f'耗时: {(end_time - start_time) / 5}秒')"
   ]
  },
  {
   "cell_type": "code",
   "execution_count": 132,
   "id": "e68e2b70",
   "metadata": {},
   "outputs": [
    {
     "name": "stdout",
     "output_type": "stream",
     "text": [
      "13013\n",
      "excess_risk of SGHMC is 9.889894222152003e-05\n",
      "Value of SGHMC is 1.310529205444929\n",
      "耗时: 0.07760701179504395秒\n"
     ]
    }
   ],
   "source": [
    "## SGHMC\n",
    "\n",
    "Model099_SGHMC_sd1 = SGHMC(beta, lam_c, lr, gamma, 0.99, seed_1, 1.326, 0.0001)\n",
    "\n",
    "\n",
    "start_time = time.time()\n",
    "theta_SGHMC, expected_excess_risk  = Model099_SGHMC_sd1.estimate(x_norm_mu1_sig1_sd1, x_norm_mu1_sig1_sd2, x_norm_mu1_sig1_sd3, x_norm_mu1_sig1_sd4, x_norm_mu1_sig1_sd5)\n",
    "end_time = time.time()\n",
    "\n",
    "print(f'excess_risk of SGHMC is {expected_excess_risk}')\n",
    "print(f'Value of SGHMC is {theta_SGHMC}')\n",
    "print(f'耗时: {(end_time - start_time) / 5}秒')"
   ]
  },
  {
   "cell_type": "markdown",
   "id": "45ad7d12",
   "metadata": {},
   "source": [
    "### Guassian(1, 2)  0.95"
   ]
  },
  {
   "cell_type": "code",
   "execution_count": 134,
   "id": "8bd9fd85",
   "metadata": {
    "tags": []
   },
   "outputs": [],
   "source": [
    "np.random.seed(1111)\n",
    "x_norm_mu1_sig2_sd1 = np.random.normal(1, 2, int(1e+6))\n",
    "np.random.seed(2222)\n",
    "x_norm_mu1_sig2_sd2 = np.random.normal(1, 2, int(1e+6))\n",
    "np.random.seed(3333)\n",
    "x_norm_mu1_sig2_sd3 = np.random.normal(1, 2, int(1e+6))\n",
    "np.random.seed(4444)\n",
    "x_norm_mu1_sig2_sd4 = np.random.normal(1, 2, int(1e+6))\n",
    "np.random.seed(5555)\n",
    "x_norm_mu1_sig2_sd5 = np.random.normal(1, 2, int(1e+6))"
   ]
  },
  {
   "cell_type": "code",
   "execution_count": 135,
   "id": "cec2e437",
   "metadata": {},
   "outputs": [
    {
     "name": "stdout",
     "output_type": "stream",
     "text": [
      "59059\n",
      "Expected excess risk of SGLD is 8.434848526421e-05\n",
      "Value of SGLD is 4.235385977685304\n",
      "耗时: 1.8438060283660889秒\n"
     ]
    }
   ],
   "source": [
    "## SGLD\n",
    "\n",
    "Model095_SGLD_sd1 = SGLD(beta, lam_c, lr, 0.95, seed_1, 4.290, 0.0001)\n",
    "\n",
    "start_time = time.time()\n",
    "theta_SGLD, expected_excess_risk  = Model095_SGLD_sd1.estimate(x_norm_mu1_sig2_sd1, x_norm_mu1_sig2_sd2, x_norm_mu1_sig2_sd3, x_norm_mu1_sig2_sd4, x_norm_mu1_sig2_sd5)\n",
    "end_time = time.time()\n",
    "\n",
    "print(f'Expected excess risk of SGLD is {expected_excess_risk}')\n",
    "print(f'Value of SGLD is {theta_SGLD}')\n",
    "print(f'耗时: {(end_time - start_time) / 5}秒')"
   ]
  },
  {
   "cell_type": "code",
   "execution_count": 136,
   "id": "fbbd3668",
   "metadata": {},
   "outputs": [
    {
     "name": "stdout",
     "output_type": "stream",
     "text": [
      "23023\n",
      "excess_risk of SGHMC is 9.820456612330696e-05\n",
      "Value of SGHMC is 4.329333466384593\n",
      "耗时: 0.6949999332427979秒\n"
     ]
    }
   ],
   "source": [
    "## SGHMC\n",
    "\n",
    "Model095_SGHMC_sd1 = SGHMC(beta, lam_c, lr, gamma, 0.95, seed_1, 4.290, 0.0001)\n",
    "\n",
    "start_time = time.time()\n",
    "theta_SGHMC, expected_excess_risk  = Model095_SGHMC_sd1.estimate(x_norm_mu1_sig2_sd1, x_norm_mu1_sig2_sd2, x_norm_mu1_sig2_sd3, x_norm_mu1_sig2_sd4, x_norm_mu1_sig2_sd5)\n",
    "end_time = time.time()\n",
    "\n",
    "print(f'excess_risk of SGHMC is {expected_excess_risk}')\n",
    "print(f'Value of SGHMC is {theta_SGHMC}')\n",
    "print(f'耗时: {(end_time - start_time) / 5}秒')"
   ]
  },
  {
   "cell_type": "markdown",
   "id": "a502b0fe",
   "metadata": {},
   "source": [
    "### Guassian(1, 2)  0.99"
   ]
  },
  {
   "cell_type": "code",
   "execution_count": 139,
   "id": "bbf91e85",
   "metadata": {},
   "outputs": [
    {
     "name": "stdout",
     "output_type": "stream",
     "text": [
      "159159\n",
      "Expected excess risk of SGLD is 9.983225028832184e-05\n",
      "Value of SGLD is 5.524798918138304\n",
      "耗时: 5.011406755447387秒\n"
     ]
    }
   ],
   "source": [
    "## SGLD\n",
    "\n",
    "Model099_SGLD_sd1 = SGLD(beta, lam_c, lr, 0.99, seed_1, 5.653, 0.0001)\n",
    "\n",
    "start_time = time.time()\n",
    "theta_SGLD, expected_excess_risk = Model099_SGLD_sd1.estimate(x_norm_mu1_sig2_sd1, x_norm_mu1_sig2_sd2, x_norm_mu1_sig2_sd3, x_norm_mu1_sig2_sd4, x_norm_mu1_sig2_sd5)\n",
    "end_time = time.time()\n",
    "\n",
    "print(f'Expected excess risk of SGLD is {expected_excess_risk}')\n",
    "print(f'Value of SGLD is {theta_SGLD}')\n",
    "print(f'耗时: {(end_time - start_time) / 5}秒')"
   ]
  },
  {
   "cell_type": "code",
   "execution_count": 143,
   "id": "4e8009f2",
   "metadata": {},
   "outputs": [
    {
     "name": "stdout",
     "output_type": "stream",
     "text": [
      "62062\n",
      "excess_risk of SGHMC is 9.642299506884607e-05\n",
      "Value of SGHMC is 5.529168168137042\n",
      "耗时: 1.830399990081787秒\n"
     ]
    }
   ],
   "source": [
    "## SGHMC\n",
    "\n",
    "Model099_SGHMC_sd1 = SGHMC(beta, lam_c, lr, gamma, 0.99, seed_1, 5.653, 0.0001)\n",
    "\n",
    "start_time = time.time()\n",
    "theta_SGHMC, expected_excess_risk  = Model099_SGHMC_sd1.estimate(x_norm_mu1_sig2_sd1, x_norm_mu1_sig2_sd2, x_norm_mu1_sig2_sd3, x_norm_mu1_sig2_sd4, x_norm_mu1_sig2_sd5)\n",
    "end_time = time.time()\n",
    "\n",
    "print(f'excess_risk of SGHMC is {expected_excess_risk}')\n",
    "print(f'Value of SGHMC is {theta_SGHMC}')\n",
    "print(f'耗时: {(end_time - start_time) / 5}秒')"
   ]
  },
  {
   "cell_type": "markdown",
   "id": "4a1ee087",
   "metadata": {},
   "source": [
    "### Guassian(3, 5)  0.95"
   ]
  },
  {
   "cell_type": "code",
   "execution_count": 145,
   "id": "1b7079d4",
   "metadata": {
    "tags": []
   },
   "outputs": [],
   "source": [
    "np.random.seed(1111)\n",
    "x_norm_mu3_sig5_sd1 = np.random.normal(3, 5, int(1e+6))\n",
    "np.random.seed(2222)\n",
    "x_norm_mu3_sig5_sd2 = np.random.normal(3, 5, int(1e+6))\n",
    "np.random.seed(3333)\n",
    "x_norm_mu3_sig5_sd3 = np.random.normal(3, 5, int(1e+6))\n",
    "np.random.seed(4444)\n",
    "x_norm_mu3_sig5_sd4 = np.random.normal(3, 5, int(1e+6))\n",
    "np.random.seed(5555)\n",
    "x_norm_mu3_sig5_sd5 = np.random.normal(3, 5, int(1e+6))"
   ]
  },
  {
   "cell_type": "code",
   "execution_count": 146,
   "id": "51a78a71",
   "metadata": {},
   "outputs": [
    {
     "name": "stdout",
     "output_type": "stream",
     "text": [
      "169169\n",
      "Expected excess risk of SGLD is 9.462153585307418e-05\n",
      "Value of SGLD is 11.126626081864849\n",
      "耗时: 5.315605640411377秒\n"
     ]
    }
   ],
   "source": [
    "## SGLD\n",
    "\n",
    "Model095_SGLD_sd1 = SGLD(beta, lam_c, lr, 0.95, seed_1, 11.224, 0.0001)\n",
    "start_time = time.time()\n",
    "theta_SGLD, expected_excess_risk  = Model095_SGLD_sd1.estimate(x_norm_mu3_sig5_sd1, x_norm_mu3_sig5_sd2, x_norm_mu3_sig5_sd3, x_norm_mu3_sig5_sd4, x_norm_mu3_sig5_sd5)\n",
    "end_time = time.time()\n",
    "\n",
    "print(f'Expected excess risk of SGLD is {expected_excess_risk}')\n",
    "print(f'Value of SGLD is {theta_SGLD}')\n",
    "print(f'耗时: {(end_time - start_time) / 5}秒')"
   ]
  },
  {
   "cell_type": "code",
   "execution_count": 148,
   "id": "50c04b9e",
   "metadata": {},
   "outputs": [
    {
     "name": "stdout",
     "output_type": "stream",
     "text": [
      "69069\n",
      "excess_risk of SGHMC is 9.882561450861339e-05\n",
      "Value of SGHMC is 11.136921103457118\n",
      "耗时: 2.0291982173919676秒\n"
     ]
    }
   ],
   "source": [
    "## SGHMC\n",
    "\n",
    "Model095_SGHMC_sd1 = SGHMC(beta, lam_c, lr, gamma, 0.95, seed_1, 11.224, 0.0001)\n",
    "\n",
    "start_time = time.time()\n",
    "theta_SGHMC, expected_excess_risk  = Model095_SGHMC_sd1.estimate(x_norm_mu3_sig5_sd1, x_norm_mu3_sig5_sd2, x_norm_mu3_sig5_sd3, x_norm_mu3_sig5_sd4, x_norm_mu3_sig5_sd5)\n",
    "end_time = time.time()\n",
    "\n",
    "print(f'excess_risk of SGHMC is {expected_excess_risk}')\n",
    "print(f'Value of SGHMC is {theta_SGHMC}')\n",
    "print(f'耗时: {(end_time - start_time) / 5}秒')"
   ]
  },
  {
   "cell_type": "markdown",
   "id": "0a75bbf8",
   "metadata": {},
   "source": [
    "### Guassian(3, 5)  0.99"
   ]
  },
  {
   "cell_type": "code",
   "execution_count": 149,
   "id": "b122c554",
   "metadata": {},
   "outputs": [
    {
     "name": "stdout",
     "output_type": "stream",
     "text": [
      "488488\n",
      "Expected excess risk of SGLD is 9.853985763201307e-05\n",
      "Value of SGLD is 14.379150165509822\n",
      "耗时: 15.769285869598388秒\n"
     ]
    }
   ],
   "source": [
    "## SGLD\n",
    "\n",
    "Model099_SGLD_sd1 = SGLD(beta, lam_c, lr, 0.99, seed_1, 14.632, 0.0001)\n",
    "\n",
    "start_time = time.time()\n",
    "theta_SGLD, expected_excess_risk  = Model099_SGLD_sd1.estimate(x_norm_mu3_sig5_sd1, x_norm_mu3_sig5_sd2, x_norm_mu3_sig5_sd3, x_norm_mu3_sig5_sd4, x_norm_mu3_sig5_sd5)\n",
    "end_time = time.time()\n",
    "\n",
    "print(f'Expected excess risk of SGLD is {expected_excess_risk}')\n",
    "print(f'Value of SGLD is {theta_SGLD}')\n",
    "print(f'耗时: {(end_time - start_time) / 5}秒')"
   ]
  },
  {
   "cell_type": "code",
   "execution_count": 150,
   "id": "c798e23e",
   "metadata": {},
   "outputs": [
    {
     "name": "stdout",
     "output_type": "stream",
     "text": [
      "218218\n",
      "excess_risk of SGHMC is 9.916638881069902e-05\n",
      "Value of SGHMC is 14.378597427070634\n",
      "耗时: 6.828199577331543秒\n"
     ]
    }
   ],
   "source": [
    "## SGHMC\n",
    "\n",
    "Model099_SGHMC_sd1 = SGHMC(beta, lam_c, lr, gamma, 0.99, seed_1, 14.632, 0.0001)\n",
    "\n",
    "start_time = time.time()\n",
    "theta_SGHMC, expected_excess_risk  = Model099_SGHMC_sd1.estimate(x_norm_mu3_sig5_sd1, x_norm_mu3_sig5_sd2, x_norm_mu3_sig5_sd3, x_norm_mu3_sig5_sd4, x_norm_mu3_sig5_sd5)\n",
    "end_time = time.time()\n",
    "\n",
    "print(f'excess_risk of SGHMC is {expected_excess_risk}')\n",
    "print(f'Value of SGHMC is {theta_SGHMC}')\n",
    "print(f'耗时: {(end_time - start_time) / 5}秒')"
   ]
  },
  {
   "cell_type": "markdown",
   "id": "3b499f6b",
   "metadata": {},
   "source": [
    "## Logistic dist.\n",
    "### Logistic(0, 1)  0.95"
   ]
  },
  {
   "cell_type": "code",
   "execution_count": 152,
   "id": "a738080c",
   "metadata": {
    "tags": []
   },
   "outputs": [],
   "source": [
    "np.random.seed(1111)\n",
    "x_logistic_mu0_scale1_sd1 = np.random.logistic(0, 1, int(1e+6))\n",
    "np.random.seed(2222)\n",
    "x_logistic_mu0_scale1_sd2 = np.random.logistic(0, 1, int(1e+6))\n",
    "np.random.seed(3333)\n",
    "x_logistic_mu0_scale1_sd3 = np.random.logistic(0, 1, int(1e+6))\n",
    "np.random.seed(4444)\n",
    "x_logistic_mu0_scale1_sd4 = np.random.logistic(0, 1, int(1e+6))\n",
    "np.random.seed(5555)\n",
    "x_logistic_mu0_scale1_sd5 = np.random.logistic(0, 1, int(1e+6))"
   ]
  },
  {
   "cell_type": "code",
   "execution_count": 153,
   "id": "1e87cfe5",
   "metadata": {},
   "outputs": [
    {
     "name": "stdout",
     "output_type": "stream",
     "text": [
      "59059\n",
      "Expected excess risk of SGLD is 9.489021803808454e-05\n",
      "Value of SGLD is 2.883165084161937\n",
      "耗时: 1.8171990871429444秒\n"
     ]
    }
   ],
   "source": [
    "## SGLD\n",
    "\n",
    "Model095_SGLD_sd1 = SGLD(beta, lam_c, lr, 0.95, seed_1, 2.944, 0.0001)\n",
    "\n",
    "start_time = time.time()\n",
    "theta_SGLD, expected_excess_risk  = Model095_SGLD_sd1.estimate(x_logistic_mu0_scale1_sd1, x_logistic_mu0_scale1_sd2, x_logistic_mu0_scale1_sd3, x_logistic_mu0_scale1_sd4, x_logistic_mu0_scale1_sd5)\n",
    "end_time = time.time()\n",
    "\n",
    "print(f'Expected excess risk of SGLD is {expected_excess_risk}')\n",
    "print(f'Value of SGLD is {theta_SGLD}')\n",
    "print(f'耗时: {(end_time - start_time) / 5}秒')"
   ]
  },
  {
   "cell_type": "code",
   "execution_count": 154,
   "id": "7e4e94de",
   "metadata": {},
   "outputs": [
    {
     "name": "stdout",
     "output_type": "stream",
     "text": [
      "20020\n",
      "excess_risk of SGHMC is 8.898271030448733e-05\n",
      "Value of SGHMC is 2.968912140875896\n",
      "耗时: 0.5841999053955078秒\n"
     ]
    }
   ],
   "source": [
    "## SGHMC\n",
    "\n",
    "Model095_SGHMC_sd1 = SGHMC(beta, lam_c, lr, gamma, 0.95, seed_1, 2.944, 0.0001)\n",
    "\n",
    "start_time = time.time()\n",
    "theta_SGHMC, expected_excess_risk  = Model095_SGHMC_sd1.estimate(x_logistic_mu0_scale1_sd1, x_logistic_mu0_scale1_sd2, x_logistic_mu0_scale1_sd3, x_logistic_mu0_scale1_sd4, x_logistic_mu0_scale1_sd5)\n",
    "end_time = time.time()\n",
    "\n",
    "print(f'excess_risk of SGHMC is {expected_excess_risk}')\n",
    "print(f'Value of SGHMC is {theta_SGHMC}')\n",
    "print(f'耗时: {(end_time - start_time) / 5}秒')"
   ]
  },
  {
   "cell_type": "markdown",
   "id": "21aa3ecc",
   "metadata": {},
   "source": [
    "### Logistic(0, 1)  0.99"
   ]
  },
  {
   "cell_type": "code",
   "execution_count": 155,
   "id": "936e2e0d",
   "metadata": {},
   "outputs": [
    {
     "name": "stdout",
     "output_type": "stream",
     "text": [
      "195195\n",
      "Expected excess risk of SGLD is 9.339227850100449e-05\n",
      "Value of SGLD is 4.454960724303989\n",
      "耗时: 6.134206295013428秒\n"
     ]
    }
   ],
   "source": [
    "## SGLD\n",
    "\n",
    "Model099_SGLD_sd1 = SGLD(beta, lam_c, lr, 0.99, seed_1, 4.595, 0.0001)\n",
    "\n",
    "start_time = time.time()\n",
    "theta_SGLD, expected_excess_risk  = Model099_SGLD_sd1.estimate(x_logistic_mu0_scale1_sd1, x_logistic_mu0_scale1_sd2, x_logistic_mu0_scale1_sd3, x_logistic_mu0_scale1_sd4, x_logistic_mu0_scale1_sd5)\n",
    "end_time = time.time()\n",
    "\n",
    "print(f'Expected excess risk of SGLD is {expected_excess_risk}')\n",
    "print(f'Value of SGLD is {theta_SGLD}')\n",
    "print(f'耗时: {(end_time - start_time) / 5}秒')"
   ]
  },
  {
   "cell_type": "code",
   "execution_count": 156,
   "id": "a9707562",
   "metadata": {},
   "outputs": [
    {
     "name": "stdout",
     "output_type": "stream",
     "text": [
      "83083\n",
      "excess_risk of SGHMC is 9.962969136508831e-05\n",
      "Value of SGHMC is 4.453875936747583\n",
      "耗时: 2.4972061634063722秒\n"
     ]
    }
   ],
   "source": [
    "## SGHMC\n",
    "\n",
    "Model099_SGHMC_sd1 = SGHMC(beta, lam_c, lr, gamma, 0.99, seed_1, 4.595, 0.0001)\n",
    "\n",
    "start_time = time.time()\n",
    "theta_SGHMC, expected_excess_risk  = Model099_SGHMC_sd1.estimate(x_logistic_mu0_scale1_sd1, x_logistic_mu0_scale1_sd2, x_logistic_mu0_scale1_sd3, x_logistic_mu0_scale1_sd4, x_logistic_mu0_scale1_sd5)\n",
    "end_time = time.time()\n",
    "\n",
    "print(f'excess_risk of SGHMC is {expected_excess_risk}')\n",
    "print(f'Value of SGHMC is {theta_SGHMC}')\n",
    "print(f'耗时: {(end_time - start_time) / 5}秒')"
   ]
  },
  {
   "cell_type": "markdown",
   "id": "390e8aa6",
   "metadata": {},
   "source": [
    "### Logistic(-1, 1)  0.95"
   ]
  },
  {
   "cell_type": "code",
   "execution_count": 157,
   "id": "cd18a257",
   "metadata": {
    "tags": []
   },
   "outputs": [],
   "source": [
    "np.random.seed(1111)\n",
    "x_logistic_mu1_scale1_sd1 = np.random.logistic(-1, 1, int(1e+6))\n",
    "np.random.seed(2222)\n",
    "x_logistic_mu1_scale1_sd2 = np.random.logistic(-1, 1, int(1e+6))\n",
    "np.random.seed(3333)\n",
    "x_logistic_mu1_scale1_sd3 = np.random.logistic(-1, 1, int(1e+6))\n",
    "np.random.seed(4444)\n",
    "x_logistic_mu1_scale1_sd4 = np.random.logistic(-1, 1, int(1e+6))\n",
    "np.random.seed(5555)\n",
    "x_logistic_mu1_scale1_sd5 = np.random.logistic(-1, 1, int(1e+6))"
   ]
  },
  {
   "cell_type": "code",
   "execution_count": 158,
   "id": "25d47ef5",
   "metadata": {},
   "outputs": [
    {
     "name": "stdout",
     "output_type": "stream",
     "text": [
      "56056\n",
      "Expected excess risk of SGLD is 8.714227506768406e-05\n",
      "Value of SGLD is 1.8859655955876857\n",
      "耗时: 1.7655994415283203秒\n"
     ]
    }
   ],
   "source": [
    "## SGLD\n",
    "\n",
    "Model095_SGLD_sd1 = SGLD(beta, lam_c, lr, 0.95, seed_1, 1.944, 0.0001)\n",
    "\n",
    "start_time = time.time()\n",
    "theta_SGLD, expected_excess_risk  = Model095_SGLD_sd1.estimate(x_logistic_mu1_scale1_sd1, x_logistic_mu1_scale1_sd2, x_logistic_mu1_scale1_sd3, x_logistic_mu1_scale1_sd4, x_logistic_mu1_scale1_sd5)\n",
    "end_time = time.time()\n",
    "\n",
    "print(f'Expected excess risk of SGLD is {expected_excess_risk}')\n",
    "print(f'Value of SGLD is {theta_SGLD}')\n",
    "print(f'耗时: {(end_time - start_time) / 5}秒')"
   ]
  },
  {
   "cell_type": "code",
   "execution_count": 159,
   "id": "18920c3d",
   "metadata": {},
   "outputs": [
    {
     "name": "stdout",
     "output_type": "stream",
     "text": [
      "15015\n",
      "excess_risk of SGHMC is 8.496779358425094e-05\n",
      "Value of SGHMC is 1.9070429078476927\n",
      "耗时: 0.4317995548248291秒\n"
     ]
    }
   ],
   "source": [
    "## SGHMC\n",
    "\n",
    "Model095_SGHMC_sd1 = SGHMC(beta, lam_c, lr, gamma, 0.95, seed_1, 1.944, 0.0001)\n",
    "\n",
    "start_time = time.time()\n",
    "theta_SGHMC, expected_excess_risk  = Model095_SGHMC_sd1.estimate(x_logistic_mu1_scale1_sd1, x_logistic_mu1_scale1_sd2, x_logistic_mu1_scale1_sd3, x_logistic_mu1_scale1_sd4, x_logistic_mu1_scale1_sd5)\n",
    "end_time = time.time()\n",
    "\n",
    "print(f'excess_risk of SGHMC is {expected_excess_risk}')\n",
    "print(f'Value of SGHMC is {theta_SGHMC}')\n",
    "print(f'耗时: {(end_time - start_time) / 5}秒')"
   ]
  },
  {
   "cell_type": "markdown",
   "id": "b8dfd026",
   "metadata": {},
   "source": [
    "### Logistic(-1, 1)  0.99"
   ]
  },
  {
   "cell_type": "code",
   "execution_count": 161,
   "id": "531a3dcc",
   "metadata": {},
   "outputs": [
    {
     "name": "stdout",
     "output_type": "stream",
     "text": [
      "193193\n",
      "Expected excess risk of SGLD is 9.718748867517841e-05\n",
      "Value of SGLD is 3.4549642066729307\n",
      "耗时: 6.180034446716308秒\n"
     ]
    }
   ],
   "source": [
    "## SGLD\n",
    "\n",
    "Model099_SGLD_sd1 = SGLD(beta, lam_c, lr, 0.99, seed_1, 3.595, 0.0001)\n",
    "\n",
    "start_time = time.time()\n",
    "theta_SGLD, expected_excess_risk  = Model099_SGLD_sd1.estimate(x_logistic_mu1_scale1_sd1, x_logistic_mu1_scale1_sd2, x_logistic_mu1_scale1_sd3, x_logistic_mu1_scale1_sd4, x_logistic_mu1_scale1_sd5)\n",
    "end_time = time.time()\n",
    "\n",
    "print(f'Expected excess risk of SGLD is {expected_excess_risk}')\n",
    "print(f'Value of SGLD is {theta_SGLD}')\n",
    "print(f'耗时: {(end_time - start_time) / 5}秒')"
   ]
  },
  {
   "cell_type": "code",
   "execution_count": 162,
   "id": "b9a260c7",
   "metadata": {},
   "outputs": [
    {
     "name": "stdout",
     "output_type": "stream",
     "text": [
      "87087\n",
      "excess_risk of SGHMC is 9.877743647557059e-05\n",
      "Value of SGHMC is 3.453585627858871\n",
      "耗时: 2.6152059555053713秒\n"
     ]
    }
   ],
   "source": [
    "## SGHMC\n",
    "\n",
    "Model099_SGHMC_sd1 = SGHMC(beta, lam_c, lr, gamma, 0.99, seed_1, 3.595, 0.0001)\n",
    "start_time = time.time()\n",
    "theta_SGHMC, expected_excess_risk  = Model099_SGHMC_sd1.estimate(x_logistic_mu1_scale1_sd1, x_logistic_mu1_scale1_sd2, x_logistic_mu1_scale1_sd3, x_logistic_mu1_scale1_sd4, x_logistic_mu1_scale1_sd5)\n",
    "end_time = time.time()\n",
    "\n",
    "print(f'excess_risk of SGHMC is {expected_excess_risk}')\n",
    "print(f'Value of SGHMC is {theta_SGHMC}')\n",
    "print(f'耗时: {(end_time - start_time) / 5}秒')"
   ]
  },
  {
   "cell_type": "markdown",
   "id": "f3124c50",
   "metadata": {},
   "source": [
    "### Logistic(-3, 3)  0.95"
   ]
  },
  {
   "cell_type": "code",
   "execution_count": 163,
   "id": "ee5847ef",
   "metadata": {
    "tags": []
   },
   "outputs": [],
   "source": [
    "np.random.seed(1111)\n",
    "x_logistic_mu3_scale3_sd1 = np.random.logistic(-3, 3, int(1e+7))\n",
    "np.random.seed(2222)\n",
    "x_logistic_mu3_scale3_sd2 = np.random.logistic(-3, 3, int(1e+7))\n",
    "np.random.seed(3333)\n",
    "x_logistic_mu3_scale3_sd3 = np.random.logistic(-3, 3, int(1e+7))\n",
    "np.random.seed(4444)\n",
    "x_logistic_mu3_scale3_sd4 = np.random.logistic(-3, 3, int(1e+7))\n",
    "np.random.seed(5555)\n",
    "x_logistic_mu3_scale3_sd5 = np.random.logistic(-3, 3, int(1e+7))"
   ]
  },
  {
   "cell_type": "code",
   "execution_count": 164,
   "id": "76bcc8b8",
   "metadata": {},
   "outputs": [
    {
     "name": "stdout",
     "output_type": "stream",
     "text": [
      "191191\n",
      "Expected excess risk of SGLD is 9.57186705436027e-05\n",
      "Value of SGLD is 5.7165322952158295\n",
      "耗时: 56.743565464019774秒\n"
     ]
    }
   ],
   "source": [
    "## SGLD\n",
    "\n",
    "Model095_SGLD_sd1 = SGLD(beta, lam_c, lr, 0.95, seed_1, 5.833, 0.0001)\n",
    "\n",
    "start_time = time.time()\n",
    "theta_SGLD, expected_excess_risk  = Model095_SGLD_sd1.estimate(x_logistic_mu3_scale3_sd1, x_logistic_mu3_scale3_sd2, x_logistic_mu3_scale3_sd3, x_logistic_mu3_scale3_sd4, x_logistic_mu3_scale3_sd5)\n",
    "end_time = time.time()\n",
    "\n",
    "print(f'Expected excess risk of SGLD is {expected_excess_risk}')\n",
    "print(f'Value of SGLD is {theta_SGLD}')\n",
    "print(f'耗时: {(end_time - start_time) / 5}秒')"
   ]
  },
  {
   "cell_type": "code",
   "execution_count": 165,
   "id": "6ce57c41",
   "metadata": {},
   "outputs": [
    {
     "name": "stdout",
     "output_type": "stream",
     "text": [
      "101101\n",
      "excess_risk of SGHMC is 9.878714312253592e-05\n",
      "Value of SGHMC is 5.74238022600843\n",
      "耗时: 26.656200075149535秒\n"
     ]
    }
   ],
   "source": [
    "## SGHMC\n",
    "\n",
    "Model095_SGHMC_sd1 = SGHMC(beta, lam_c, lr, gamma, 0.95, seed_1, 5.833, 0.0001)\n",
    "start_time = time.time()\n",
    "theta_SGHMC, expected_excess_risk  = Model095_SGHMC_sd1.estimate(x_logistic_mu3_scale3_sd1, x_logistic_mu3_scale3_sd2, x_logistic_mu3_scale3_sd3, x_logistic_mu3_scale3_sd4, x_logistic_mu3_scale3_sd5)\n",
    "end_time = time.time()\n",
    "\n",
    "print(f'excess_risk of SGHMC is {expected_excess_risk}')\n",
    "print(f'Value of SGHMC is {theta_SGHMC}')\n",
    "print(f'耗时: {(end_time - start_time) / 5}秒')"
   ]
  },
  {
   "cell_type": "markdown",
   "id": "4a1f1dad",
   "metadata": {},
   "source": [
    "### Logistic(-3, 3)  0.99"
   ]
  },
  {
   "cell_type": "code",
   "execution_count": 166,
   "id": "2b0263b7",
   "metadata": {},
   "outputs": [
    {
     "name": "stdout",
     "output_type": "stream",
     "text": [
      "746746\n",
      "Expected excess risk of SGLD is 9.75842472870039e-05\n",
      "Value of SGLD is 10.466053939675938\n",
      "耗时: 210.6366229057312秒\n"
     ]
    }
   ],
   "source": [
    "## SGLD\n",
    "\n",
    "Model099_SGLD_sd1 = SGLD(beta, lam_c, lr, 0.99, seed_1, 10.785, 0.0001)\n",
    "\n",
    "start_time = time.time()\n",
    "theta_SGLD, expected_excess_risk  = Model099_SGLD_sd1.estimate(x_logistic_mu3_scale3_sd1, x_logistic_mu3_scale3_sd2, x_logistic_mu3_scale3_sd3, x_logistic_mu3_scale3_sd4, x_logistic_mu3_scale3_sd5)\n",
    "end_time = time.time()\n",
    "\n",
    "print(f'Expected excess risk of SGLD is {expected_excess_risk}')\n",
    "print(f'Value of SGLD is {theta_SGLD}')\n",
    "print(f'耗时: {(end_time - start_time) / 5}秒')"
   ]
  },
  {
   "cell_type": "code",
   "execution_count": 167,
   "id": "bd428529",
   "metadata": {},
   "outputs": [
    {
     "name": "stdout",
     "output_type": "stream",
     "text": [
      "340340\n",
      "excess_risk of SGHMC is 9.929956913864364e-05\n",
      "Value of SGHMC is 10.463444649700591\n",
      "耗时: 86.56820111274719秒\n"
     ]
    }
   ],
   "source": [
    "## SGHMC\n",
    "\n",
    "Model099_SGHMC_sd1 = SGHMC(beta, lam_c, lr, gamma, 0.99, seed_1, 10.785, 0.0001)\n",
    "start_time = time.time()\n",
    "theta_SGHMC, expected_excess_risk  = Model099_SGHMC_sd1.estimate(x_logistic_mu3_scale3_sd1, x_logistic_mu3_scale3_sd2, x_logistic_mu3_scale3_sd3, x_logistic_mu3_scale3_sd4, x_logistic_mu3_scale3_sd5)\n",
    "end_time = time.time()\n",
    "\n",
    "print(f'excess_risk of SGHMC is {expected_excess_risk}')\n",
    "print(f'Value of SGHMC is {theta_SGHMC}')\n",
    "print(f'耗时: {(end_time - start_time) / 5}秒')"
   ]
  },
  {
   "cell_type": "markdown",
   "id": "c8be1e02",
   "metadata": {},
   "source": [
    "## Gumbel dist.\n",
    "### Gumbel (0, 1) 0.95"
   ]
  },
  {
   "cell_type": "code",
   "execution_count": 168,
   "id": "374af5f0",
   "metadata": {
    "tags": []
   },
   "outputs": [],
   "source": [
    "np.random.seed(1111)\n",
    "x_g_0_1_sd1 = np.random.gumbel(loc=0.0, scale=1, size=int(1e+6))\n",
    "np.random.seed(2222)\n",
    "x_g_0_1_sd2 = np.random.gumbel(loc=0.0, scale=1, size=int(1e+6))\n",
    "np.random.seed(3333)\n",
    "x_g_0_1_sd3 = np.random.gumbel(loc=0.0, scale=1, size=int(1e+6))\n",
    "np.random.seed(4444)\n",
    "x_g_0_1_sd4 = np.random.gumbel(loc=0.0, scale=1, size=int(1e+6))\n",
    "np.random.seed(5555)\n",
    "x_g_0_1_sd5 = np.random.gumbel(loc=0.0, scale=1, size=int(1e+6))"
   ]
  },
  {
   "cell_type": "code",
   "execution_count": 169,
   "id": "2682ea6e",
   "metadata": {},
   "outputs": [
    {
     "name": "stdout",
     "output_type": "stream",
     "text": [
      "64064\n",
      "Expected excess risk of SGLD is 8.855077098582798e-05\n",
      "Value of SGLD is 2.9120065373689776\n",
      "耗时: 2.047999048233032秒\n"
     ]
    }
   ],
   "source": [
    "## SGLD\n",
    "\n",
    "Model095_SGLD_sd1 = SGLD(beta, lam_c, lr, 0.95, seed_1, 2.970, 0.0001)\n",
    "start_time = time.time()\n",
    "theta_SGLD, expected_excess_risk  = Model095_SGLD_sd1.estimate(x_g_0_1_sd1, x_g_0_1_sd2, x_g_0_1_sd3, x_g_0_1_sd4, x_g_0_1_sd5)\n",
    "end_time = time.time()\n",
    "\n",
    "print(f'Expected excess risk of SGLD is {expected_excess_risk}')\n",
    "print(f'Value of SGLD is {theta_SGLD}')\n",
    "print(f'耗时: {(end_time - start_time) / 5}秒')"
   ]
  },
  {
   "cell_type": "code",
   "execution_count": 170,
   "id": "c4e108e0",
   "metadata": {},
   "outputs": [
    {
     "name": "stdout",
     "output_type": "stream",
     "text": [
      "25025\n",
      "excess_risk of SGHMC is 9.149774026205335e-05\n",
      "Value of SGHMC is 3.0054941077394934\n",
      "耗时: 0.8146055698394775秒\n"
     ]
    }
   ],
   "source": [
    "## SGHMC\n",
    "\n",
    "Model095_SGHMC_sd1 = SGHMC(beta, lam_c, lr, gamma, 0.95, seed_1, 2.970, 0.0001)\n",
    "start_time = time.time()\n",
    "theta_SGHMC, expected_excess_risk  = Model095_SGHMC_sd1.estimate(x_g_0_1_sd1, x_g_0_1_sd2, x_g_0_1_sd3, x_g_0_1_sd4, x_g_0_1_sd5)\n",
    "end_time = time.time()\n",
    "\n",
    "print(f'excess_risk of SGHMC is {expected_excess_risk}')\n",
    "print(f'Value of SGHMC is {theta_SGHMC}')\n",
    "print(f'耗时: {(end_time - start_time) / 5}秒')"
   ]
  },
  {
   "cell_type": "markdown",
   "id": "5443e34f",
   "metadata": {},
   "source": [
    "### Gumbel (0, 1) 0.99"
   ]
  },
  {
   "cell_type": "code",
   "execution_count": 171,
   "id": "b4001bfc",
   "metadata": {},
   "outputs": [
    {
     "name": "stdout",
     "output_type": "stream",
     "text": [
      "198198\n",
      "Expected excess risk of SGLD is 9.930719362720597e-05\n",
      "Value of SGLD is 4.450715017399689\n",
      "耗时: 6.233599615097046秒\n"
     ]
    }
   ],
   "source": [
    "## SGLD\n",
    "\n",
    "Model099_SGLD_sd1 = SGLD(beta, lam_c, lr, 0.99, seed_1, 4.600, 0.0001)\n",
    "start_time = time.time()\n",
    "theta_SGLD, expected_excess_risk  = Model099_SGLD_sd1.estimate(x_g_0_1_sd1, x_g_0_1_sd2, x_g_0_1_sd3, x_g_0_1_sd4, x_g_0_1_sd5)\n",
    "end_time = time.time()\n",
    "\n",
    "print(f'Expected excess risk of SGLD is {expected_excess_risk}')\n",
    "print(f'Value of SGLD is {theta_SGLD}')\n",
    "print(f'耗时: {(end_time - start_time) / 5}秒')"
   ]
  },
  {
   "cell_type": "code",
   "execution_count": 172,
   "id": "6af9eff2",
   "metadata": {},
   "outputs": [
    {
     "name": "stdout",
     "output_type": "stream",
     "text": [
      "90090\n",
      "excess_risk of SGHMC is 9.649050222153356e-05\n",
      "Value of SGHMC is 4.456086675928783\n",
      "耗时: 2.690205383300781秒\n"
     ]
    }
   ],
   "source": [
    "## SGHMC\n",
    "\n",
    "Model099_SGHMC_sd1 = SGHMC(beta, lam_c, lr, gamma, 0.99, seed_1, 4.600, 0.0001)\n",
    "start_time = time.time()\n",
    "theta_SGHMC, expected_excess_risk  = Model099_SGHMC_sd1.estimate(x_g_0_1_sd1, x_g_0_1_sd2, x_g_0_1_sd3, x_g_0_1_sd4, x_g_0_1_sd5)\n",
    "end_time = time.time()\n",
    "\n",
    "print(f'excess_risk of SGHMC is {expected_excess_risk}')\n",
    "print(f'Value of SGHMC is {theta_SGHMC}')\n",
    "print(f'耗时: {(end_time - start_time) / 5}秒')"
   ]
  },
  {
   "cell_type": "markdown",
   "id": "52072a8a",
   "metadata": {},
   "source": [
    "### Gumbel (0, 2) 0.95"
   ]
  },
  {
   "cell_type": "code",
   "execution_count": 173,
   "id": "a15c8f79",
   "metadata": {
    "tags": []
   },
   "outputs": [],
   "source": [
    "np.random.seed(1111)\n",
    "x_g_0_2_sd1 = np.random.gumbel(loc=0.0, scale=2, size=int(1e+7))\n",
    "np.random.seed(2222)\n",
    "x_g_0_2_sd2 = np.random.gumbel(loc=0.0, scale=2, size=int(1e+7))\n",
    "np.random.seed(3333)\n",
    "x_g_0_2_sd3 = np.random.gumbel(loc=0.0, scale=2, size=int(1e+7))\n",
    "np.random.seed(4444)\n",
    "x_g_0_2_sd4 = np.random.gumbel(loc=0.0, scale=2, size=int(1e+7))\n",
    "np.random.seed(5555)\n",
    "x_g_0_2_sd5 = np.random.gumbel(loc=0.0, scale=2, size=int(1e+7))"
   ]
  },
  {
   "cell_type": "code",
   "execution_count": 174,
   "id": "01831960",
   "metadata": {},
   "outputs": [
    {
     "name": "stdout",
     "output_type": "stream",
     "text": [
      "129129\n",
      "Expected excess risk of SGLD is 9.504701756513813e-05\n",
      "Value of SGLD is 5.850097851620015\n",
      "耗时: 37.832629108428954秒\n"
     ]
    }
   ],
   "source": [
    "## SGLD\n",
    "\n",
    "Model095_SGLD_sd1 = SGLD(beta, lam_c, lr, 0.95, seed_1, 5.940, 0.0001)\n",
    "start_time = time.time()\n",
    "theta_SGLD, expected_excess_risk  = Model095_SGLD_sd1.estimate(x_g_0_2_sd1, x_g_0_2_sd2, x_g_0_2_sd3, x_g_0_2_sd4, x_g_0_2_sd5)\n",
    "end_time = time.time()\n",
    "\n",
    "print(f'Expected excess risk of SGLD is {expected_excess_risk}')\n",
    "print(f'Value of SGLD is {theta_SGLD}')\n",
    "print(f'耗时: {(end_time - start_time) / 5}秒')"
   ]
  },
  {
   "cell_type": "code",
   "execution_count": 175,
   "id": "3a1befe2",
   "metadata": {},
   "outputs": [
    {
     "name": "stdout",
     "output_type": "stream",
     "text": [
      "66066\n",
      "excess_risk of SGHMC is 8.985489667545716e-05\n",
      "Value of SGHMC is 5.858709100219052\n",
      "耗时: 18.831241178512574秒\n"
     ]
    }
   ],
   "source": [
    "## SGHMC\n",
    "\n",
    "Model095_SGHMC_sd1 = SGHMC(beta, lam_c, lr, gamma, 0.95, seed_1, 5.940, 0.0001)\n",
    "start_time = time.time()\n",
    "theta_SGHMC, expected_excess_risk  = Model095_SGHMC_sd1.estimate(x_g_0_2_sd1, x_g_0_2_sd2, x_g_0_2_sd3, x_g_0_2_sd4, x_g_0_2_sd5)\n",
    "end_time = time.time()\n",
    "\n",
    "print(f'excess_risk of SGHMC is {expected_excess_risk}')\n",
    "print(f'Value of SGHMC is {theta_SGHMC}')\n",
    "print(f'耗时: {(end_time - start_time) / 5}秒')"
   ]
  },
  {
   "cell_type": "markdown",
   "id": "43b1b817",
   "metadata": {},
   "source": [
    "### Gumbel (0, 2) 0.99"
   ]
  },
  {
   "cell_type": "code",
   "execution_count": 176,
   "id": "cf4d2e4f",
   "metadata": {},
   "outputs": [
    {
     "name": "stdout",
     "output_type": "stream",
     "text": [
      "476476\n",
      "Expected excess risk of SGLD is 9.698329259395075e-05\n",
      "Value of SGLD is 8.970686482731278\n",
      "耗时: 136.09199919700623秒\n"
     ]
    }
   ],
   "source": [
    "## SGLD\n",
    "\n",
    "Model099_SGLD_sd1 = SGLD(beta, lam_c, lr, 0.99, seed_1, 9.200, 0.0001)\n",
    "start_time = time.time()\n",
    "theta_SGLD, expected_excess_risk  = Model099_SGLD_sd1.estimate(x_g_0_2_sd1, x_g_0_2_sd2, x_g_0_2_sd3, x_g_0_2_sd4, x_g_0_2_sd5)\n",
    "end_time = time.time()\n",
    "\n",
    "print(f'Expected excess risk of SGLD is {expected_excess_risk}')\n",
    "print(f'Value of SGLD is {theta_SGLD}')\n",
    "print(f'耗时: {(end_time - start_time) / 5}秒')"
   ]
  },
  {
   "cell_type": "code",
   "execution_count": 177,
   "id": "325cfaf9",
   "metadata": {},
   "outputs": [
    {
     "name": "stdout",
     "output_type": "stream",
     "text": [
      "219219\n",
      "excess_risk of SGHMC is 9.927403949452902e-05\n",
      "Value of SGHMC is 8.969335728175116\n",
      "耗时: 53.86119985580444秒\n"
     ]
    }
   ],
   "source": [
    "## SGHMC\n",
    "\n",
    "Model099_SGHMC_sd1 = SGHMC(beta, lam_c, lr, gamma, 0.99, seed_1, 9.200, 0.0001)\n",
    "start_time = time.time()\n",
    "theta_SGHMC, expected_excess_risk  = Model099_SGHMC_sd1.estimate(x_g_0_2_sd1, x_g_0_2_sd2, x_g_0_2_sd3, x_g_0_2_sd4, x_g_0_2_sd5)\n",
    "end_time = time.time()\n",
    "\n",
    "print(f'excess_risk of SGHMC is {expected_excess_risk}')\n",
    "print(f'Value of SGHMC is {theta_SGHMC}')\n",
    "print(f'耗时: {(end_time - start_time) / 5}秒')"
   ]
  },
  {
   "cell_type": "markdown",
   "id": "4c9c1850",
   "metadata": {},
   "source": [
    "### Gumbel (1, 2) 0.95"
   ]
  },
  {
   "cell_type": "code",
   "execution_count": 178,
   "id": "79825c36",
   "metadata": {
    "tags": []
   },
   "outputs": [],
   "source": [
    "np.random.seed(1111)\n",
    "x_g_1_2_sd1 = np.random.gumbel(loc=1.0, scale=2, size=int(1e+7))\n",
    "np.random.seed(2222)\n",
    "x_g_1_2_sd2 = np.random.gumbel(loc=1.0, scale=2, size=int(1e+7))\n",
    "np.random.seed(3333)\n",
    "x_g_1_2_sd3 = np.random.gumbel(loc=1.0, scale=2, size=int(1e+7))\n",
    "np.random.seed(4444)\n",
    "x_g_1_2_sd4 = np.random.gumbel(loc=1.0, scale=2, size=int(1e+7))\n",
    "np.random.seed(5555)\n",
    "x_g_1_2_sd5 = np.random.gumbel(loc=1.0, scale=2, size=int(1e+7))"
   ]
  },
  {
   "cell_type": "code",
   "execution_count": 179,
   "id": "c1c427fc",
   "metadata": {},
   "outputs": [
    {
     "name": "stdout",
     "output_type": "stream",
     "text": [
      "133133\n",
      "Expected excess risk of SGLD is 8.793220097024248e-05\n",
      "Value of SGLD is 6.850825054133732\n",
      "耗时: 36.88344020843506秒\n"
     ]
    }
   ],
   "source": [
    "## SGLD\n",
    "\n",
    "Model095_SGLD_sd1 = SGLD(beta, lam_c, lr, 0.95, seed_1, 6.940, 0.0001)\n",
    "start_time = time.time()\n",
    "theta_SGLD, expected_excess_risk  = Model095_SGLD_sd1.estimate(x_g_1_2_sd1, x_g_1_2_sd2, x_g_1_2_sd3, x_g_1_2_sd4, x_g_1_2_sd5)\n",
    "end_time = time.time()\n",
    "\n",
    "print(f'Expected excess risk of SGLD is {expected_excess_risk}')\n",
    "print(f'Value of SGLD is {theta_SGLD}')\n",
    "print(f'耗时: {(end_time - start_time) / 5}秒')"
   ]
  },
  {
   "cell_type": "code",
   "execution_count": 180,
   "id": "a900477d",
   "metadata": {},
   "outputs": [
    {
     "name": "stdout",
     "output_type": "stream",
     "text": [
      "66066\n",
      "excess_risk of SGHMC is 8.687360603261883e-05\n",
      "Value of SGHMC is 6.859056664038536\n",
      "耗时: 16.80640697479248秒\n"
     ]
    }
   ],
   "source": [
    "## SGHMC\n",
    "\n",
    "Model095_SGHMC_sd1 = SGHMC(beta, lam_c, lr, gamma, 0.95, seed_1, 6.940, 0.0001)\n",
    "start_time = time.time()\n",
    "theta_SGHMC, expected_excess_risk  = Model095_SGHMC_sd1.estimate(x_g_1_2_sd1, x_g_1_2_sd2, x_g_1_2_sd3, x_g_1_2_sd4, x_g_1_2_sd5)\n",
    "end_time = time.time()\n",
    "\n",
    "print(f'excess_risk of SGHMC is {expected_excess_risk}')\n",
    "print(f'Value of SGHMC is {theta_SGHMC}')\n",
    "print(f'耗时: {(end_time - start_time) / 5}秒')"
   ]
  },
  {
   "cell_type": "markdown",
   "id": "44d338a4",
   "metadata": {},
   "source": [
    "### Gumbel (1, 2) 0.99"
   ]
  },
  {
   "cell_type": "code",
   "execution_count": 181,
   "id": "71c1991e",
   "metadata": {},
   "outputs": [
    {
     "name": "stdout",
     "output_type": "stream",
     "text": [
      "476476\n",
      "Expected excess risk of SGLD is 9.746890057354103e-05\n",
      "Value of SGLD is 9.96584007337692\n",
      "耗时: 131.36129717826844秒\n"
     ]
    }
   ],
   "source": [
    "## SGLD\n",
    "\n",
    "Model099_SGLD_sd1 = SGLD(beta, lam_c, lr, 0.99, seed_1, 10.200, 0.0001)\n",
    "start_time = time.time()\n",
    "theta_SGLD, expected_excess_risk  = Model099_SGLD_sd1.estimate(x_g_1_2_sd1, x_g_1_2_sd2, x_g_1_2_sd3, x_g_1_2_sd4, x_g_1_2_sd5)\n",
    "end_time = time.time()\n",
    "\n",
    "print(f'Expected excess risk of SGLD is {expected_excess_risk}')\n",
    "print(f'Value of SGLD is {theta_SGLD}')\n",
    "print(f'耗时: {(end_time - start_time) / 5}秒')"
   ]
  },
  {
   "cell_type": "code",
   "execution_count": 182,
   "id": "76de12e7",
   "metadata": {},
   "outputs": [
    {
     "name": "stdout",
     "output_type": "stream",
     "text": [
      "218218\n",
      "excess_risk of SGHMC is 9.826607416838469e-05\n",
      "Value of SGHMC is 9.966151155302537\n",
      "耗时: 55.3634072303772秒\n"
     ]
    }
   ],
   "source": [
    "## SGHMC\n",
    "\n",
    "Model099_SGHMC_sd1 = SGHMC(beta, lam_c, lr, gamma, 0.99, seed_1, 10.200, 0.0001)\n",
    "start_time = time.time()\n",
    "theta_SGHMC, expected_excess_risk  = Model099_SGHMC_sd1.estimate(x_g_1_2_sd1, x_g_1_2_sd2, x_g_1_2_sd3, x_g_1_2_sd4, x_g_1_2_sd5)\n",
    "end_time = time.time()\n",
    "\n",
    "print(f'excess_risk of SGHMC is {expected_excess_risk}')\n",
    "print(f'Value of SGHMC is {theta_SGHMC}')\n",
    "print(f'耗时: {(end_time - start_time) / 5}秒')"
   ]
  }
 ],
 "metadata": {
  "kernelspec": {
   "display_name": "discrete",
   "language": "python",
   "name": "discrete"
  },
  "language_info": {
   "codemirror_mode": {
    "name": "ipython",
    "version": 3
   },
   "file_extension": ".py",
   "mimetype": "text/x-python",
   "name": "python",
   "nbconvert_exporter": "python",
   "pygments_lexer": "ipython3",
   "version": "3.11.3"
  }
 },
 "nbformat": 4,
 "nbformat_minor": 5
}
